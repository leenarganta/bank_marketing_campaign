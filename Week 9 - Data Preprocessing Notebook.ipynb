{
 "cells": [
  {
   "cell_type": "code",
   "execution_count": 1,
   "id": "35ce8db8",
   "metadata": {},
   "outputs": [
    {
     "data": {
      "text/html": [
       "<div>\n",
       "<style scoped>\n",
       "    .dataframe tbody tr th:only-of-type {\n",
       "        vertical-align: middle;\n",
       "    }\n",
       "\n",
       "    .dataframe tbody tr th {\n",
       "        vertical-align: top;\n",
       "    }\n",
       "\n",
       "    .dataframe thead th {\n",
       "        text-align: right;\n",
       "    }\n",
       "</style>\n",
       "<table border=\"1\" class=\"dataframe\">\n",
       "  <thead>\n",
       "    <tr style=\"text-align: right;\">\n",
       "      <th></th>\n",
       "      <th>age</th>\n",
       "      <th>job</th>\n",
       "      <th>marital</th>\n",
       "      <th>education</th>\n",
       "      <th>default</th>\n",
       "      <th>housing</th>\n",
       "      <th>loan</th>\n",
       "      <th>contact</th>\n",
       "      <th>month</th>\n",
       "      <th>day_of_week</th>\n",
       "      <th>...</th>\n",
       "      <th>campaign</th>\n",
       "      <th>pdays</th>\n",
       "      <th>previous</th>\n",
       "      <th>poutcome</th>\n",
       "      <th>emp.var.rate</th>\n",
       "      <th>cons.price.idx</th>\n",
       "      <th>cons.conf.idx</th>\n",
       "      <th>euribor3m</th>\n",
       "      <th>nr.employed</th>\n",
       "      <th>y</th>\n",
       "    </tr>\n",
       "  </thead>\n",
       "  <tbody>\n",
       "    <tr>\n",
       "      <th>0</th>\n",
       "      <td>56</td>\n",
       "      <td>housemaid</td>\n",
       "      <td>married</td>\n",
       "      <td>basic.4y</td>\n",
       "      <td>no</td>\n",
       "      <td>no</td>\n",
       "      <td>no</td>\n",
       "      <td>telephone</td>\n",
       "      <td>may</td>\n",
       "      <td>mon</td>\n",
       "      <td>...</td>\n",
       "      <td>1</td>\n",
       "      <td>999</td>\n",
       "      <td>0</td>\n",
       "      <td>nonexistent</td>\n",
       "      <td>1.1</td>\n",
       "      <td>93.994</td>\n",
       "      <td>-36.4</td>\n",
       "      <td>4.857</td>\n",
       "      <td>5191.0</td>\n",
       "      <td>no</td>\n",
       "    </tr>\n",
       "    <tr>\n",
       "      <th>1</th>\n",
       "      <td>57</td>\n",
       "      <td>services</td>\n",
       "      <td>married</td>\n",
       "      <td>high.school</td>\n",
       "      <td>unknown</td>\n",
       "      <td>no</td>\n",
       "      <td>no</td>\n",
       "      <td>telephone</td>\n",
       "      <td>may</td>\n",
       "      <td>mon</td>\n",
       "      <td>...</td>\n",
       "      <td>1</td>\n",
       "      <td>999</td>\n",
       "      <td>0</td>\n",
       "      <td>nonexistent</td>\n",
       "      <td>1.1</td>\n",
       "      <td>93.994</td>\n",
       "      <td>-36.4</td>\n",
       "      <td>4.857</td>\n",
       "      <td>5191.0</td>\n",
       "      <td>no</td>\n",
       "    </tr>\n",
       "    <tr>\n",
       "      <th>2</th>\n",
       "      <td>37</td>\n",
       "      <td>services</td>\n",
       "      <td>married</td>\n",
       "      <td>high.school</td>\n",
       "      <td>no</td>\n",
       "      <td>yes</td>\n",
       "      <td>no</td>\n",
       "      <td>telephone</td>\n",
       "      <td>may</td>\n",
       "      <td>mon</td>\n",
       "      <td>...</td>\n",
       "      <td>1</td>\n",
       "      <td>999</td>\n",
       "      <td>0</td>\n",
       "      <td>nonexistent</td>\n",
       "      <td>1.1</td>\n",
       "      <td>93.994</td>\n",
       "      <td>-36.4</td>\n",
       "      <td>4.857</td>\n",
       "      <td>5191.0</td>\n",
       "      <td>no</td>\n",
       "    </tr>\n",
       "    <tr>\n",
       "      <th>3</th>\n",
       "      <td>40</td>\n",
       "      <td>admin.</td>\n",
       "      <td>married</td>\n",
       "      <td>basic.6y</td>\n",
       "      <td>no</td>\n",
       "      <td>no</td>\n",
       "      <td>no</td>\n",
       "      <td>telephone</td>\n",
       "      <td>may</td>\n",
       "      <td>mon</td>\n",
       "      <td>...</td>\n",
       "      <td>1</td>\n",
       "      <td>999</td>\n",
       "      <td>0</td>\n",
       "      <td>nonexistent</td>\n",
       "      <td>1.1</td>\n",
       "      <td>93.994</td>\n",
       "      <td>-36.4</td>\n",
       "      <td>4.857</td>\n",
       "      <td>5191.0</td>\n",
       "      <td>no</td>\n",
       "    </tr>\n",
       "    <tr>\n",
       "      <th>4</th>\n",
       "      <td>56</td>\n",
       "      <td>services</td>\n",
       "      <td>married</td>\n",
       "      <td>high.school</td>\n",
       "      <td>no</td>\n",
       "      <td>no</td>\n",
       "      <td>yes</td>\n",
       "      <td>telephone</td>\n",
       "      <td>may</td>\n",
       "      <td>mon</td>\n",
       "      <td>...</td>\n",
       "      <td>1</td>\n",
       "      <td>999</td>\n",
       "      <td>0</td>\n",
       "      <td>nonexistent</td>\n",
       "      <td>1.1</td>\n",
       "      <td>93.994</td>\n",
       "      <td>-36.4</td>\n",
       "      <td>4.857</td>\n",
       "      <td>5191.0</td>\n",
       "      <td>no</td>\n",
       "    </tr>\n",
       "  </tbody>\n",
       "</table>\n",
       "<p>5 rows × 21 columns</p>\n",
       "</div>"
      ],
      "text/plain": [
       "   age        job  marital    education  default housing loan    contact  \\\n",
       "0   56  housemaid  married     basic.4y       no      no   no  telephone   \n",
       "1   57   services  married  high.school  unknown      no   no  telephone   \n",
       "2   37   services  married  high.school       no     yes   no  telephone   \n",
       "3   40     admin.  married     basic.6y       no      no   no  telephone   \n",
       "4   56   services  married  high.school       no      no  yes  telephone   \n",
       "\n",
       "  month day_of_week  ...  campaign  pdays  previous     poutcome emp.var.rate  \\\n",
       "0   may         mon  ...         1    999         0  nonexistent          1.1   \n",
       "1   may         mon  ...         1    999         0  nonexistent          1.1   \n",
       "2   may         mon  ...         1    999         0  nonexistent          1.1   \n",
       "3   may         mon  ...         1    999         0  nonexistent          1.1   \n",
       "4   may         mon  ...         1    999         0  nonexistent          1.1   \n",
       "\n",
       "   cons.price.idx  cons.conf.idx  euribor3m  nr.employed   y  \n",
       "0          93.994          -36.4      4.857       5191.0  no  \n",
       "1          93.994          -36.4      4.857       5191.0  no  \n",
       "2          93.994          -36.4      4.857       5191.0  no  \n",
       "3          93.994          -36.4      4.857       5191.0  no  \n",
       "4          93.994          -36.4      4.857       5191.0  no  \n",
       "\n",
       "[5 rows x 21 columns]"
      ]
     },
     "execution_count": 1,
     "metadata": {},
     "output_type": "execute_result"
    }
   ],
   "source": [
    "# Importing libraries\n",
    "import pandas as pd\n",
    "import numpy as np\n",
    "import seaborn as sns\n",
    "import matplotlib.pyplot as plt\n",
    "from sklearn.preprocessing import StandardScaler\n",
    "from imblearn.over_sampling import SMOTE\n",
    "from sklearn.model_selection import train_test_split\n",
    "from sklearn.linear_model import LogisticRegression\n",
    "from sklearn.metrics import classification_report, confusion_matrix\n",
    "\n",
    "# Load data \n",
    "data = pd.read_csv(\"bank-additional-full.csv\", delimiter = ';')\n",
    "data.head()"
   ]
  },
  {
   "cell_type": "markdown",
   "id": "05dbb6a3",
   "metadata": {},
   "source": [
    "Deeper look at our dataset's features\n",
    "\n",
    "age: Age of the client.\n",
    "\n",
    "job: Type of job.\n",
    "\n",
    "marital: Marital status.\n",
    "\n",
    "education: Level of education.\n",
    "\n",
    "default: Whether the client has credit in default.\n",
    "\n",
    "balance: Average yearly balance in euros.\n",
    "\n",
    "housing: Whether the client has a housing loan.\n",
    "\n",
    "loan: Whether the client has a personal loan.\n",
    "\n",
    "contact: Type of communication used for the last contact.\n",
    "\n",
    "day: Last contact day of the month.\n",
    "\n",
    "month: Last contact month of the year.\n",
    "\n",
    "duration: Duration of the last contact in seconds.\n",
    "\n",
    "campaign: Number of contacts performed during this campaign.\n",
    "\n",
    "pdays: Number of days since the client was last contacted from a previous campaign.\n",
    "\n",
    "previous: Number of contacts performed before this campaign.\n",
    "\n",
    "poutcome: Outcome of the previous marketing campaign.\n",
    "\n",
    "y: Target variable (whether the client subscribed to a term deposit)."
   ]
  },
  {
   "cell_type": "code",
   "execution_count": 2,
   "id": "ab4ebadd",
   "metadata": {},
   "outputs": [
    {
     "name": "stdout",
     "output_type": "stream",
     "text": [
      "Missing values:\n",
      "age               0\n",
      "job               0\n",
      "marital           0\n",
      "education         0\n",
      "default           0\n",
      "housing           0\n",
      "loan              0\n",
      "contact           0\n",
      "month             0\n",
      "day_of_week       0\n",
      "duration          0\n",
      "campaign          0\n",
      "pdays             0\n",
      "previous          0\n",
      "poutcome          0\n",
      "emp.var.rate      0\n",
      "cons.price.idx    0\n",
      "cons.conf.idx     0\n",
      "euribor3m         0\n",
      "nr.employed       0\n",
      "y                 0\n",
      "dtype: int64\n",
      "\n",
      "Unknown values per column:\n",
      "age                  0\n",
      "job                330\n",
      "marital             80\n",
      "education         1731\n",
      "default           8597\n",
      "housing            990\n",
      "loan               990\n",
      "contact              0\n",
      "month                0\n",
      "day_of_week          0\n",
      "duration             0\n",
      "campaign             0\n",
      "pdays                0\n",
      "previous             0\n",
      "poutcome             0\n",
      "emp.var.rate         0\n",
      "cons.price.idx       0\n",
      "cons.conf.idx        0\n",
      "euribor3m            0\n",
      "nr.employed          0\n",
      "y                    0\n",
      "dtype: int64\n"
     ]
    }
   ],
   "source": [
    "# Check for 'unknown' values and NA\n",
    "print(\"Missing values:\")\n",
    "print(data.isna().sum())\n",
    "print(\"\\nUnknown values per column:\")\n",
    "print((data == 'unknown').sum())\n"
   ]
  },
  {
   "cell_type": "markdown",
   "id": "26da37a8",
   "metadata": {},
   "source": [
    "No missing data in the dataset,there are presence of unknown values in the columns; job,marital,education,default,housing and loan"
   ]
  },
  {
   "cell_type": "code",
   "execution_count": 3,
   "id": "47d20129",
   "metadata": {},
   "outputs": [],
   "source": [
    "#handle unknown values\n",
    "# Replace 'unknown' with NaN for better handling\n",
    "data.replace('unknown', np.nan, inplace=True)"
   ]
  },
  {
   "cell_type": "code",
   "execution_count": 4,
   "id": "beff2e35",
   "metadata": {},
   "outputs": [
    {
     "data": {
      "text/plain": [
       "age                        56\n",
       "job                 housemaid\n",
       "marital               married\n",
       "education            basic.4y\n",
       "default                    no\n",
       "housing                    no\n",
       "loan                       no\n",
       "contact             telephone\n",
       "month                     may\n",
       "day_of_week               mon\n",
       "duration                  261\n",
       "campaign                    1\n",
       "pdays                     999\n",
       "previous                    0\n",
       "poutcome          nonexistent\n",
       "emp.var.rate              1.1\n",
       "cons.price.idx         93.994\n",
       "cons.conf.idx           -36.4\n",
       "euribor3m               4.857\n",
       "nr.employed            5191.0\n",
       "y                          no\n",
       "Name: 0, dtype: object"
      ]
     },
     "execution_count": 4,
     "metadata": {},
     "output_type": "execute_result"
    }
   ],
   "source": [
    "#check first row of each column\n",
    "data.iloc[0]"
   ]
  },
  {
   "cell_type": "code",
   "execution_count": 5,
   "id": "d06db685",
   "metadata": {},
   "outputs": [
    {
     "data": {
      "text/plain": [
       "(41188, 21)"
      ]
     },
     "execution_count": 5,
     "metadata": {},
     "output_type": "execute_result"
    }
   ],
   "source": [
    "#check for shape\n",
    "data.shape"
   ]
  },
  {
   "cell_type": "code",
   "execution_count": 6,
   "id": "5a877292",
   "metadata": {},
   "outputs": [
    {
     "data": {
      "text/plain": [
       "12"
      ]
     },
     "execution_count": 6,
     "metadata": {},
     "output_type": "execute_result"
    }
   ],
   "source": [
    "#check for duplicates\n",
    "data.duplicated().sum()"
   ]
  },
  {
   "cell_type": "code",
   "execution_count": 7,
   "id": "29e24edf",
   "metadata": {},
   "outputs": [
    {
     "name": "stdout",
     "output_type": "stream",
     "text": [
      "0\n",
      "(41176, 21)\n"
     ]
    }
   ],
   "source": [
    "#remove duplicates\n",
    "data.drop_duplicates(keep = 'first', inplace = True)\n",
    "print(data.duplicated().sum())\n",
    "print(data.shape)"
   ]
  },
  {
   "cell_type": "code",
   "execution_count": 8,
   "id": "0efa7343",
   "metadata": {},
   "outputs": [],
   "source": [
    "#drop duration column\n",
    "data.drop('duration', axis = 1, inplace = True)"
   ]
  },
  {
   "cell_type": "code",
   "execution_count": 9,
   "id": "9b4ef197",
   "metadata": {},
   "outputs": [
    {
     "name": "stdout",
     "output_type": "stream",
     "text": [
      "<class 'pandas.core.frame.DataFrame'>\n",
      "Index: 41176 entries, 0 to 41187\n",
      "Data columns (total 20 columns):\n",
      " #   Column          Non-Null Count  Dtype  \n",
      "---  ------          --------------  -----  \n",
      " 0   age             41176 non-null  int64  \n",
      " 1   job             40846 non-null  object \n",
      " 2   marital         41096 non-null  object \n",
      " 3   education       39446 non-null  object \n",
      " 4   default         32580 non-null  object \n",
      " 5   housing         40186 non-null  object \n",
      " 6   loan            40186 non-null  object \n",
      " 7   contact         41176 non-null  object \n",
      " 8   month           41176 non-null  object \n",
      " 9   day_of_week     41176 non-null  object \n",
      " 10  campaign        41176 non-null  int64  \n",
      " 11  pdays           41176 non-null  int64  \n",
      " 12  previous        41176 non-null  int64  \n",
      " 13  poutcome        41176 non-null  object \n",
      " 14  emp.var.rate    41176 non-null  float64\n",
      " 15  cons.price.idx  41176 non-null  float64\n",
      " 16  cons.conf.idx   41176 non-null  float64\n",
      " 17  euribor3m       41176 non-null  float64\n",
      " 18  nr.employed     41176 non-null  float64\n",
      " 19  y               41176 non-null  object \n",
      "dtypes: float64(5), int64(4), object(11)\n",
      "memory usage: 6.6+ MB\n"
     ]
    }
   ],
   "source": [
    "#check metadata\n",
    "data.info()"
   ]
  },
  {
   "cell_type": "code",
   "execution_count": 10,
   "id": "ef178e79",
   "metadata": {},
   "outputs": [
    {
     "name": "stdout",
     "output_type": "stream",
     "text": [
      "['no' 'yes']\n"
     ]
    }
   ],
   "source": [
    "print(data['y'].unique())"
   ]
  },
  {
   "cell_type": "code",
   "execution_count": 11,
   "id": "73b40e67",
   "metadata": {},
   "outputs": [],
   "source": [
    "#Convert target variable to binary\n",
    "data['y'] = data['y'].map({'no': 0, 'yes': 1})"
   ]
  },
  {
   "cell_type": "code",
   "execution_count": 12,
   "id": "63c15a4f",
   "metadata": {},
   "outputs": [],
   "source": [
    "# #Convert categorical variables to dummy variables\n",
    "# cat_cols = data.select_dtypes(include='object').columns\n",
    "# data = pd.get_dummies(data, columns=cat_cols, drop_first=True)"
   ]
  },
  {
   "cell_type": "code",
   "execution_count": 13,
   "id": "0f72185d",
   "metadata": {},
   "outputs": [
    {
     "data": {
      "text/html": [
       "<div>\n",
       "<style scoped>\n",
       "    .dataframe tbody tr th:only-of-type {\n",
       "        vertical-align: middle;\n",
       "    }\n",
       "\n",
       "    .dataframe tbody tr th {\n",
       "        vertical-align: top;\n",
       "    }\n",
       "\n",
       "    .dataframe thead th {\n",
       "        text-align: right;\n",
       "    }\n",
       "</style>\n",
       "<table border=\"1\" class=\"dataframe\">\n",
       "  <thead>\n",
       "    <tr style=\"text-align: right;\">\n",
       "      <th></th>\n",
       "      <th>age</th>\n",
       "      <th>campaign</th>\n",
       "      <th>pdays</th>\n",
       "      <th>previous</th>\n",
       "      <th>emp.var.rate</th>\n",
       "      <th>cons.price.idx</th>\n",
       "      <th>cons.conf.idx</th>\n",
       "      <th>euribor3m</th>\n",
       "      <th>nr.employed</th>\n",
       "      <th>y</th>\n",
       "    </tr>\n",
       "  </thead>\n",
       "  <tbody>\n",
       "    <tr>\n",
       "      <th>count</th>\n",
       "      <td>41176.00000</td>\n",
       "      <td>41176.000000</td>\n",
       "      <td>41176.000000</td>\n",
       "      <td>41176.000000</td>\n",
       "      <td>41176.000000</td>\n",
       "      <td>41176.000000</td>\n",
       "      <td>41176.000000</td>\n",
       "      <td>41176.000000</td>\n",
       "      <td>41176.000000</td>\n",
       "      <td>41176.000000</td>\n",
       "    </tr>\n",
       "    <tr>\n",
       "      <th>mean</th>\n",
       "      <td>40.02380</td>\n",
       "      <td>2.567879</td>\n",
       "      <td>962.464810</td>\n",
       "      <td>0.173013</td>\n",
       "      <td>0.081922</td>\n",
       "      <td>93.575720</td>\n",
       "      <td>-40.502863</td>\n",
       "      <td>3.621293</td>\n",
       "      <td>5167.034870</td>\n",
       "      <td>0.112663</td>\n",
       "    </tr>\n",
       "    <tr>\n",
       "      <th>std</th>\n",
       "      <td>10.42068</td>\n",
       "      <td>2.770318</td>\n",
       "      <td>186.937102</td>\n",
       "      <td>0.494964</td>\n",
       "      <td>1.570883</td>\n",
       "      <td>0.578839</td>\n",
       "      <td>4.627860</td>\n",
       "      <td>1.734437</td>\n",
       "      <td>72.251364</td>\n",
       "      <td>0.316184</td>\n",
       "    </tr>\n",
       "    <tr>\n",
       "      <th>min</th>\n",
       "      <td>17.00000</td>\n",
       "      <td>1.000000</td>\n",
       "      <td>0.000000</td>\n",
       "      <td>0.000000</td>\n",
       "      <td>-3.400000</td>\n",
       "      <td>92.201000</td>\n",
       "      <td>-50.800000</td>\n",
       "      <td>0.634000</td>\n",
       "      <td>4963.600000</td>\n",
       "      <td>0.000000</td>\n",
       "    </tr>\n",
       "    <tr>\n",
       "      <th>25%</th>\n",
       "      <td>32.00000</td>\n",
       "      <td>1.000000</td>\n",
       "      <td>999.000000</td>\n",
       "      <td>0.000000</td>\n",
       "      <td>-1.800000</td>\n",
       "      <td>93.075000</td>\n",
       "      <td>-42.700000</td>\n",
       "      <td>1.344000</td>\n",
       "      <td>5099.100000</td>\n",
       "      <td>0.000000</td>\n",
       "    </tr>\n",
       "    <tr>\n",
       "      <th>50%</th>\n",
       "      <td>38.00000</td>\n",
       "      <td>2.000000</td>\n",
       "      <td>999.000000</td>\n",
       "      <td>0.000000</td>\n",
       "      <td>1.100000</td>\n",
       "      <td>93.749000</td>\n",
       "      <td>-41.800000</td>\n",
       "      <td>4.857000</td>\n",
       "      <td>5191.000000</td>\n",
       "      <td>0.000000</td>\n",
       "    </tr>\n",
       "    <tr>\n",
       "      <th>75%</th>\n",
       "      <td>47.00000</td>\n",
       "      <td>3.000000</td>\n",
       "      <td>999.000000</td>\n",
       "      <td>0.000000</td>\n",
       "      <td>1.400000</td>\n",
       "      <td>93.994000</td>\n",
       "      <td>-36.400000</td>\n",
       "      <td>4.961000</td>\n",
       "      <td>5228.100000</td>\n",
       "      <td>0.000000</td>\n",
       "    </tr>\n",
       "    <tr>\n",
       "      <th>max</th>\n",
       "      <td>98.00000</td>\n",
       "      <td>56.000000</td>\n",
       "      <td>999.000000</td>\n",
       "      <td>7.000000</td>\n",
       "      <td>1.400000</td>\n",
       "      <td>94.767000</td>\n",
       "      <td>-26.900000</td>\n",
       "      <td>5.045000</td>\n",
       "      <td>5228.100000</td>\n",
       "      <td>1.000000</td>\n",
       "    </tr>\n",
       "  </tbody>\n",
       "</table>\n",
       "</div>"
      ],
      "text/plain": [
       "               age      campaign         pdays      previous  emp.var.rate  \\\n",
       "count  41176.00000  41176.000000  41176.000000  41176.000000  41176.000000   \n",
       "mean      40.02380      2.567879    962.464810      0.173013      0.081922   \n",
       "std       10.42068      2.770318    186.937102      0.494964      1.570883   \n",
       "min       17.00000      1.000000      0.000000      0.000000     -3.400000   \n",
       "25%       32.00000      1.000000    999.000000      0.000000     -1.800000   \n",
       "50%       38.00000      2.000000    999.000000      0.000000      1.100000   \n",
       "75%       47.00000      3.000000    999.000000      0.000000      1.400000   \n",
       "max       98.00000     56.000000    999.000000      7.000000      1.400000   \n",
       "\n",
       "       cons.price.idx  cons.conf.idx     euribor3m   nr.employed             y  \n",
       "count    41176.000000   41176.000000  41176.000000  41176.000000  41176.000000  \n",
       "mean        93.575720     -40.502863      3.621293   5167.034870      0.112663  \n",
       "std          0.578839       4.627860      1.734437     72.251364      0.316184  \n",
       "min         92.201000     -50.800000      0.634000   4963.600000      0.000000  \n",
       "25%         93.075000     -42.700000      1.344000   5099.100000      0.000000  \n",
       "50%         93.749000     -41.800000      4.857000   5191.000000      0.000000  \n",
       "75%         93.994000     -36.400000      4.961000   5228.100000      0.000000  \n",
       "max         94.767000     -26.900000      5.045000   5228.100000      1.000000  "
      ]
     },
     "execution_count": 13,
     "metadata": {},
     "output_type": "execute_result"
    }
   ],
   "source": [
    "#check descriptive statistics of the dataset\n",
    "data.describe()"
   ]
  },
  {
   "cell_type": "markdown",
   "id": "19b8614b",
   "metadata": {},
   "source": [
    "Customers above 90 years old are rare and may be outliers. We will consider capping or treating them separately in models.\n",
    "\n",
    "While most customers are contacted 1–3 times, some were contacted over 50 times. These are likely outliers that can skew model performance.\n",
    "\n",
    "A value of 999 means the customer was never contacted before. This is a placeholder, not a real number. It should be replaced with a flag variable (e.g., was_previously_contacted).\n",
    "\n",
    "Most customers had no previous contact. This feature is highly skewed and may work better as a binary or categorical variable.\n"
   ]
  },
  {
   "cell_type": "code",
   "execution_count": 14,
   "id": "37bfc5c1",
   "metadata": {},
   "outputs": [],
   "source": [
    "#check for and handle outliers\n",
    "numeric_cols = data.select_dtypes(include='number').columns"
   ]
  },
  {
   "cell_type": "code",
   "execution_count": 15,
   "id": "3a736e28",
   "metadata": {},
   "outputs": [
    {
     "data": {
      "image/png": "[encoded data removed]",
      "text/plain": [
       "<Figure size 1500x1500 with 9 Axes>"
      ]
     },
     "metadata": {},
     "output_type": "display_data"
    },
    {
     "name": "stdout",
     "output_type": "stream",
     "text": [
      "\n",
      "Summary Statistics for Numeric Features:\n",
      "                  count         mean         std       min       25%  \\\n",
      "cons.conf.idx   41176.0   -40.502863    4.627860   -50.800   -42.700   \n",
      "emp.var.rate    41176.0     0.081922    1.570883    -3.400    -1.800   \n",
      "previous        41176.0     0.173013    0.494964     0.000     0.000   \n",
      "campaign        41176.0     2.567879    2.770318     1.000     1.000   \n",
      "euribor3m       41176.0     3.621293    1.734437     0.634     1.344   \n",
      "age             41176.0    40.023800   10.420680    17.000    32.000   \n",
      "cons.price.idx  41176.0    93.575720    0.578839    92.201    93.075   \n",
      "pdays           41176.0   962.464810  186.937102     0.000   999.000   \n",
      "nr.employed     41176.0  5167.034870   72.251364  4963.600  5099.100   \n",
      "\n",
      "                     50%       75%       max  \n",
      "cons.conf.idx    -41.800   -36.400   -26.900  \n",
      "emp.var.rate       1.100     1.400     1.400  \n",
      "previous           0.000     0.000     7.000  \n",
      "campaign           2.000     3.000    56.000  \n",
      "euribor3m          4.857     4.961     5.045  \n",
      "age               38.000    47.000    98.000  \n",
      "cons.price.idx    93.749    93.994    94.767  \n",
      "pdays            999.000   999.000   999.000  \n",
      "nr.employed     5191.000  5228.100  5228.100  \n"
     ]
    }
   ],
   "source": [
    "# Select only numeric columns (excluding the target and any non-numeric columns)\n",
    "numeric_cols = data.select_dtypes(include=['int64', 'float64']).columns\n",
    "numeric_cols = numeric_cols.drop('y', errors='ignore')  # Exclude target if present\n",
    "\n",
    "# Calculate grid dimensions\n",
    "n_cols = 3\n",
    "n_rows = (len(numeric_cols) + n_cols - 1) // n_cols  # Ceiling division\n",
    "\n",
    "# Create figure with dynamic size based on number of rows\n",
    "plt.figure(figsize=(15, 5*n_rows))\n",
    "\n",
    "# Create boxplots for each numeric column\n",
    "for i, col in enumerate(numeric_cols):\n",
    "    plt.subplot(n_rows, n_cols, i+1)\n",
    "    \n",
    "    # Customize boxplot appearance\n",
    "    boxprops = dict(linestyle='-', linewidth=1.5, color='darkblue')\n",
    "    flierprops = dict(marker='o', markerfacecolor='red', markersize=5, linestyle='none')\n",
    "    \n",
    "    sns.boxplot(x=data[col], \n",
    "                color='lightblue', \n",
    "                width=0.5,\n",
    "                boxprops=boxprops,\n",
    "                flierprops=flierprops)\n",
    "    \n",
    "    # Add mean line\n",
    "    plt.axvline(data[col].mean(), color='green', linestyle='--', linewidth=1.5, label='Mean')\n",
    "    \n",
    "    # Add median line (already in boxplot but making it more visible)\n",
    "    plt.axvline(data[col].median(), color='orange', linestyle='-', linewidth=1.5, label='Median')\n",
    "    \n",
    "    plt.title(f'Distribution of {col}', fontsize=10, pad=10)\n",
    "    plt.xlabel('')\n",
    "    plt.grid(True, alpha=0.3)\n",
    "    \n",
    "    # Add legend for first subplot only\n",
    "    if i == 0:\n",
    "        plt.legend()\n",
    "    \n",
    "    # Rotate x-axis labels if needed\n",
    "    if len(data[col].unique()) > 10:\n",
    "        plt.xticks(rotation=45)\n",
    "\n",
    "plt.tight_layout()\n",
    "plt.suptitle('Distribution of Numeric Features (After Dummy Variable Creation)', y=1.02, fontsize=14)\n",
    "plt.show()\n",
    "\n",
    "# Additional: Show summary statistics for numeric columns\n",
    "print(\"\\nSummary Statistics for Numeric Features:\")\n",
    "print(data[numeric_cols].describe().T.sort_values(by='mean'))"
   ]
  },
  {
   "cell_type": "code",
   "execution_count": 16,
   "id": "f4b4093e",
   "metadata": {},
   "outputs": [
    {
     "data": {
      "text/html": [
       "<div>\n",
       "<style scoped>\n",
       "    .dataframe tbody tr th:only-of-type {\n",
       "        vertical-align: middle;\n",
       "    }\n",
       "\n",
       "    .dataframe tbody tr th {\n",
       "        vertical-align: top;\n",
       "    }\n",
       "\n",
       "    .dataframe thead th {\n",
       "        text-align: right;\n",
       "    }\n",
       "</style>\n",
       "<table border=\"1\" class=\"dataframe\">\n",
       "  <thead>\n",
       "    <tr style=\"text-align: right;\">\n",
       "      <th></th>\n",
       "      <th>age</th>\n",
       "      <th>pdays</th>\n",
       "      <th>campaign</th>\n",
       "      <th>previous</th>\n",
       "    </tr>\n",
       "  </thead>\n",
       "  <tbody>\n",
       "    <tr>\n",
       "      <th>count</th>\n",
       "      <td>41176.00000</td>\n",
       "      <td>41176.000000</td>\n",
       "      <td>41176.000000</td>\n",
       "      <td>41176.000000</td>\n",
       "    </tr>\n",
       "    <tr>\n",
       "      <th>mean</th>\n",
       "      <td>40.02380</td>\n",
       "      <td>962.464810</td>\n",
       "      <td>2.567879</td>\n",
       "      <td>0.173013</td>\n",
       "    </tr>\n",
       "    <tr>\n",
       "      <th>std</th>\n",
       "      <td>10.42068</td>\n",
       "      <td>186.937102</td>\n",
       "      <td>2.770318</td>\n",
       "      <td>0.494964</td>\n",
       "    </tr>\n",
       "    <tr>\n",
       "      <th>min</th>\n",
       "      <td>17.00000</td>\n",
       "      <td>0.000000</td>\n",
       "      <td>1.000000</td>\n",
       "      <td>0.000000</td>\n",
       "    </tr>\n",
       "    <tr>\n",
       "      <th>25%</th>\n",
       "      <td>32.00000</td>\n",
       "      <td>999.000000</td>\n",
       "      <td>1.000000</td>\n",
       "      <td>0.000000</td>\n",
       "    </tr>\n",
       "    <tr>\n",
       "      <th>50%</th>\n",
       "      <td>38.00000</td>\n",
       "      <td>999.000000</td>\n",
       "      <td>2.000000</td>\n",
       "      <td>0.000000</td>\n",
       "    </tr>\n",
       "    <tr>\n",
       "      <th>75%</th>\n",
       "      <td>47.00000</td>\n",
       "      <td>999.000000</td>\n",
       "      <td>3.000000</td>\n",
       "      <td>0.000000</td>\n",
       "    </tr>\n",
       "    <tr>\n",
       "      <th>max</th>\n",
       "      <td>98.00000</td>\n",
       "      <td>999.000000</td>\n",
       "      <td>56.000000</td>\n",
       "      <td>7.000000</td>\n",
       "    </tr>\n",
       "  </tbody>\n",
       "</table>\n",
       "</div>"
      ],
      "text/plain": [
       "               age         pdays      campaign      previous\n",
       "count  41176.00000  41176.000000  41176.000000  41176.000000\n",
       "mean      40.02380    962.464810      2.567879      0.173013\n",
       "std       10.42068    186.937102      2.770318      0.494964\n",
       "min       17.00000      0.000000      1.000000      0.000000\n",
       "25%       32.00000    999.000000      1.000000      0.000000\n",
       "50%       38.00000    999.000000      2.000000      0.000000\n",
       "75%       47.00000    999.000000      3.000000      0.000000\n",
       "max       98.00000    999.000000     56.000000      7.000000"
      ]
     },
     "execution_count": 16,
     "metadata": {},
     "output_type": "execute_result"
    }
   ],
   "source": [
    "#checking statistics of outlier features\n",
    "\n",
    "data[['age', 'pdays', 'campaign', 'previous']].describe()"
   ]
  },
  {
   "cell_type": "code",
   "execution_count": 17,
   "id": "f8d111fa",
   "metadata": {},
   "outputs": [
    {
     "data": {
      "text/plain": [
       "96.32067223625413"
      ]
     },
     "execution_count": 17,
     "metadata": {},
     "output_type": "execute_result"
    }
   ],
   "source": [
    "len(data[data['pdays'] == 999]) / len(data) * 100\n"
   ]
  },
  {
   "cell_type": "markdown",
   "id": "d6b0f10c",
   "metadata": {},
   "source": [
    "96.32% is the percentage of clients who weren't contacted before the current campaign"
   ]
  },
  {
   "cell_type": "code",
   "execution_count": 18,
   "id": "01a496c9",
   "metadata": {},
   "outputs": [],
   "source": [
    "# Binary feature for column pdays: contacted before or not\n",
    "data['contacted_before'] = np.where(data['pdays'] == 999, 0, 1)\n",
    "\n",
    "# Optional: replace 999 with NaN if you want to use it in modeling\n",
    "data['pdays_clean'] = data['pdays'].replace(999, np.nan)\n"
   ]
  },
  {
   "cell_type": "code",
   "execution_count": 19,
   "id": "9734aae2",
   "metadata": {},
   "outputs": [],
   "source": [
    "#use capping for column previous\n",
    "data['previous_capped'] = np.where(data['previous'] > 3, 3, data['previous'])\n"
   ]
  },
  {
   "cell_type": "code",
   "execution_count": 20,
   "id": "3296ad51",
   "metadata": {},
   "outputs": [
    {
     "data": {
      "text/plain": [
       "0.38129007188653585"
      ]
     },
     "execution_count": 20,
     "metadata": {},
     "output_type": "execute_result"
    }
   ],
   "source": [
    "len(data[data['campaign'] > 20]) / len(data) * 100"
   ]
  },
  {
   "cell_type": "markdown",
   "id": "743c35b1",
   "metadata": {},
   "source": [
    "A very small fraction (0.38%) of clients received >20 contacts, which might indicate:\n",
    "\n",
    "Data entry errors (unrealistically high values)\n",
    "\n",
    "Aggressive marketing tactics (possible harassment risk)\n",
    "\n",
    "Special cases (e.g., high-value clients receiving extra follow-ups)"
   ]
  },
  {
   "cell_type": "code",
   "execution_count": 21,
   "id": "edf2cff6",
   "metadata": {},
   "outputs": [
    {
     "data": {
      "text/plain": [
       "1777"
      ]
     },
     "execution_count": 21,
     "metadata": {},
     "output_type": "execute_result"
    }
   ],
   "source": [
    "len(data[data['campaign'] > 7])"
   ]
  },
  {
   "cell_type": "code",
   "execution_count": 22,
   "id": "a58a1b89",
   "metadata": {},
   "outputs": [
    {
     "name": "stdout",
     "output_type": "stream",
     "text": [
      "Conversion rate (≤7 contacts): 11.59%\n",
      "Conversion rate (>7 contacts): 4.11%\n"
     ]
    }
   ],
   "source": [
    "# Calculate conversion rates\n",
    "normal = data[data['campaign'] <= 7]\n",
    "excessive = data[data['campaign'] > 7]\n",
    "\n",
    "print(f\"Conversion rate (≤7 contacts): {normal['y'].mean()*100:.2f}%\")\n",
    "print(f\"Conversion rate (>7 contacts): {excessive['y'].mean()*100:.2f}%\")"
   ]
  },
  {
   "cell_type": "markdown",
   "id": "a3fb1da7",
   "metadata": {},
   "source": [
    "Clients contacted ≤7 times convert at 11.59%\n",
    "\n",
    "Clients contacted >7 times convert at 4.11% (65% lower!)\n",
    "\n",
    "This suggests over-contacting hurts conversions."
   ]
  },
  {
   "cell_type": "markdown",
   "id": "955e08e6",
   "metadata": {},
   "source": [
    "Actionable Recommendation is using \n",
    "\n",
    "**1.Strategic Capping**"
   ]
  },
  {
   "cell_type": "code",
   "execution_count": 23,
   "id": "720c3565",
   "metadata": {},
   "outputs": [
    {
     "name": "stdout",
     "output_type": "stream",
     "text": [
      "Overall conversion after capping at 7: 11.59%\n"
     ]
    }
   ],
   "source": [
    "# Remove customers who were contacted more than 7 times\n",
    "capped_data = data[data['campaign'] <= 7]\n",
    "\n",
    "# Recalculate overall conversion under the capped policy\n",
    "capped_overall_conv = capped_data['y'].mean()\n",
    "print(f\"Overall conversion after capping at 7: {capped_overall_conv*100:.2f}%\")\n"
   ]
  },
  {
   "cell_type": "markdown",
   "id": "bc55f7c7",
   "metadata": {},
   "source": [
    "After Strategic Capping, the maximum value has now become 7\n",
    "\n"
   ]
  },
  {
   "cell_type": "markdown",
   "id": "fe35c993",
   "metadata": {},
   "source": [
    "**2.Winsorization**"
   ]
  },
  {
   "cell_type": "code",
   "execution_count": 24,
   "id": "1676ef89",
   "metadata": {},
   "outputs": [
    {
     "name": "stdout",
     "output_type": "stream",
     "text": [
      "Original Max: 56 → Winsorized Max: 14\n"
     ]
    }
   ],
   "source": [
    "# Set your thresholds (e.g., 1st and 99th percentiles)\n",
    "lower_limit = data['campaign'].quantile(0.01)\n",
    "upper_limit = data['campaign'].quantile(0.99)\n",
    "\n",
    "# Winsorize: Replace extreme values with thresholds\n",
    "data['campaign_winsorized'] = np.clip(data['campaign'], lower_limit, upper_limit)\n",
    "\n",
    "# Optional: Compare before and after\n",
    "print(f\"Original Max: {data['campaign'].max()} → Winsorized Max: {data['campaign_winsorized'].max()}\")\n",
    "\n",
    "\n"
   ]
  },
  {
   "cell_type": "code",
   "execution_count": 25,
   "id": "acf5d13f",
   "metadata": {},
   "outputs": [],
   "source": [
    "data.to_csv(\"bank_marketing_cleaned.csv\", index=False)\n"
   ]
  },
  {
   "cell_type": "code",
   "execution_count": null,
   "id": "c7d4712d",
   "metadata": {},
   "outputs": [],
   "source": []
  },
  {
   "cell_type": "code",
   "execution_count": null,
   "id": "0106087c",
   "metadata": {},
   "outputs": [],
   "source": []
  }
 ],
 "metadata": {
  "kernelspec": {
   "display_name": "Python 3 (ipykernel)",
   "language": "python",
   "name": "python3"
  },
  "language_info": {
   "codemirror_mode": {
    "name": "ipython",
    "version": 3
   },
   "file_extension": ".py",
   "mimetype": "text/x-python",
   "name": "python",
   "nbconvert_exporter": "python",
   "pygments_lexer": "ipython3",
   "version": "3.11.5"
  }
 },
 "nbformat": 4,
 "nbformat_minor": 5
}
