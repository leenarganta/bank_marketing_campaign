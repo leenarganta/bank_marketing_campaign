{
 "cells": [
  {
   "cell_type": "markdown",
   "id": "9bac135b",
   "metadata": {},
   "source": [
    "## MODELLING"
   ]
  },
  {
   "cell_type": "code",
   "execution_count": 39,
   "id": "26a5538c",
   "metadata": {},
   "outputs": [
    {
     "data": {
      "text/html": [
       "<div>\n",
       "<style scoped>\n",
       "    .dataframe tbody tr th:only-of-type {\n",
       "        vertical-align: middle;\n",
       "    }\n",
       "\n",
       "    .dataframe tbody tr th {\n",
       "        vertical-align: top;\n",
       "    }\n",
       "\n",
       "    .dataframe thead th {\n",
       "        text-align: right;\n",
       "    }\n",
       "</style>\n",
       "<table border=\"1\" class=\"dataframe\">\n",
       "  <thead>\n",
       "    <tr style=\"text-align: right;\">\n",
       "      <th></th>\n",
       "      <th>age</th>\n",
       "      <th>job</th>\n",
       "      <th>marital</th>\n",
       "      <th>education</th>\n",
       "      <th>default</th>\n",
       "      <th>housing</th>\n",
       "      <th>loan</th>\n",
       "      <th>contact</th>\n",
       "      <th>month</th>\n",
       "      <th>day_of_week</th>\n",
       "      <th>...</th>\n",
       "      <th>emp.var.rate</th>\n",
       "      <th>cons.price.idx</th>\n",
       "      <th>cons.conf.idx</th>\n",
       "      <th>euribor3m</th>\n",
       "      <th>nr.employed</th>\n",
       "      <th>y</th>\n",
       "      <th>contacted_before</th>\n",
       "      <th>pdays_clean</th>\n",
       "      <th>previous_capped</th>\n",
       "      <th>campaign_winsorized</th>\n",
       "    </tr>\n",
       "  </thead>\n",
       "  <tbody>\n",
       "    <tr>\n",
       "      <th>0</th>\n",
       "      <td>56</td>\n",
       "      <td>housemaid</td>\n",
       "      <td>married</td>\n",
       "      <td>basic.4y</td>\n",
       "      <td>no</td>\n",
       "      <td>no</td>\n",
       "      <td>no</td>\n",
       "      <td>telephone</td>\n",
       "      <td>may</td>\n",
       "      <td>mon</td>\n",
       "      <td>...</td>\n",
       "      <td>1.1</td>\n",
       "      <td>93.994</td>\n",
       "      <td>-36.4</td>\n",
       "      <td>4.857</td>\n",
       "      <td>5191.0</td>\n",
       "      <td>0</td>\n",
       "      <td>0</td>\n",
       "      <td>NaN</td>\n",
       "      <td>0</td>\n",
       "      <td>1</td>\n",
       "    </tr>\n",
       "    <tr>\n",
       "      <th>1</th>\n",
       "      <td>57</td>\n",
       "      <td>services</td>\n",
       "      <td>married</td>\n",
       "      <td>high.school</td>\n",
       "      <td>NaN</td>\n",
       "      <td>no</td>\n",
       "      <td>no</td>\n",
       "      <td>telephone</td>\n",
       "      <td>may</td>\n",
       "      <td>mon</td>\n",
       "      <td>...</td>\n",
       "      <td>1.1</td>\n",
       "      <td>93.994</td>\n",
       "      <td>-36.4</td>\n",
       "      <td>4.857</td>\n",
       "      <td>5191.0</td>\n",
       "      <td>0</td>\n",
       "      <td>0</td>\n",
       "      <td>NaN</td>\n",
       "      <td>0</td>\n",
       "      <td>1</td>\n",
       "    </tr>\n",
       "    <tr>\n",
       "      <th>2</th>\n",
       "      <td>37</td>\n",
       "      <td>services</td>\n",
       "      <td>married</td>\n",
       "      <td>high.school</td>\n",
       "      <td>no</td>\n",
       "      <td>yes</td>\n",
       "      <td>no</td>\n",
       "      <td>telephone</td>\n",
       "      <td>may</td>\n",
       "      <td>mon</td>\n",
       "      <td>...</td>\n",
       "      <td>1.1</td>\n",
       "      <td>93.994</td>\n",
       "      <td>-36.4</td>\n",
       "      <td>4.857</td>\n",
       "      <td>5191.0</td>\n",
       "      <td>0</td>\n",
       "      <td>0</td>\n",
       "      <td>NaN</td>\n",
       "      <td>0</td>\n",
       "      <td>1</td>\n",
       "    </tr>\n",
       "    <tr>\n",
       "      <th>3</th>\n",
       "      <td>40</td>\n",
       "      <td>admin.</td>\n",
       "      <td>married</td>\n",
       "      <td>basic.6y</td>\n",
       "      <td>no</td>\n",
       "      <td>no</td>\n",
       "      <td>no</td>\n",
       "      <td>telephone</td>\n",
       "      <td>may</td>\n",
       "      <td>mon</td>\n",
       "      <td>...</td>\n",
       "      <td>1.1</td>\n",
       "      <td>93.994</td>\n",
       "      <td>-36.4</td>\n",
       "      <td>4.857</td>\n",
       "      <td>5191.0</td>\n",
       "      <td>0</td>\n",
       "      <td>0</td>\n",
       "      <td>NaN</td>\n",
       "      <td>0</td>\n",
       "      <td>1</td>\n",
       "    </tr>\n",
       "    <tr>\n",
       "      <th>4</th>\n",
       "      <td>56</td>\n",
       "      <td>services</td>\n",
       "      <td>married</td>\n",
       "      <td>high.school</td>\n",
       "      <td>no</td>\n",
       "      <td>no</td>\n",
       "      <td>yes</td>\n",
       "      <td>telephone</td>\n",
       "      <td>may</td>\n",
       "      <td>mon</td>\n",
       "      <td>...</td>\n",
       "      <td>1.1</td>\n",
       "      <td>93.994</td>\n",
       "      <td>-36.4</td>\n",
       "      <td>4.857</td>\n",
       "      <td>5191.0</td>\n",
       "      <td>0</td>\n",
       "      <td>0</td>\n",
       "      <td>NaN</td>\n",
       "      <td>0</td>\n",
       "      <td>1</td>\n",
       "    </tr>\n",
       "  </tbody>\n",
       "</table>\n",
       "<p>5 rows × 24 columns</p>\n",
       "</div>"
      ],
      "text/plain": [
       "   age        job  marital    education default housing loan    contact month  \\\n",
       "0   56  housemaid  married     basic.4y      no      no   no  telephone   may   \n",
       "1   57   services  married  high.school     NaN      no   no  telephone   may   \n",
       "2   37   services  married  high.school      no     yes   no  telephone   may   \n",
       "3   40     admin.  married     basic.6y      no      no   no  telephone   may   \n",
       "4   56   services  married  high.school      no      no  yes  telephone   may   \n",
       "\n",
       "  day_of_week  ...  emp.var.rate  cons.price.idx  cons.conf.idx euribor3m  \\\n",
       "0         mon  ...           1.1          93.994          -36.4     4.857   \n",
       "1         mon  ...           1.1          93.994          -36.4     4.857   \n",
       "2         mon  ...           1.1          93.994          -36.4     4.857   \n",
       "3         mon  ...           1.1          93.994          -36.4     4.857   \n",
       "4         mon  ...           1.1          93.994          -36.4     4.857   \n",
       "\n",
       "   nr.employed  y  contacted_before  pdays_clean  previous_capped  \\\n",
       "0       5191.0  0                 0          NaN                0   \n",
       "1       5191.0  0                 0          NaN                0   \n",
       "2       5191.0  0                 0          NaN                0   \n",
       "3       5191.0  0                 0          NaN                0   \n",
       "4       5191.0  0                 0          NaN                0   \n",
       "\n",
       "   campaign_winsorized  \n",
       "0                    1  \n",
       "1                    1  \n",
       "2                    1  \n",
       "3                    1  \n",
       "4                    1  \n",
       "\n",
       "[5 rows x 24 columns]"
      ]
     },
     "execution_count": 39,
     "metadata": {},
     "output_type": "execute_result"
    }
   ],
   "source": [
    "from sklearn.pipeline import Pipeline\n",
    "from sklearn.compose import ColumnTransformer\n",
    "from sklearn.impute import SimpleImputer\n",
    "from sklearn.preprocessing import OneHotEncoder, StandardScaler\n",
    "from sklearn.linear_model import LogisticRegression\n",
    "from sklearn.tree import DecisionTreeClassifier\n",
    "from sklearn.naive_bayes import BernoulliNB\n",
    "from sklearn.ensemble import RandomForestClassifier, GradientBoostingClassifier\n",
    "from sklearn.model_selection import cross_val_score, StratifiedKFold\n",
    "import pandas as pd\n",
    "import numpy as np\n",
    "from sklearn.model_selection import RandomizedSearchCV\n",
    "from sklearn.metrics import classification_report, confusion_matrix\n",
    "\n",
    "\n",
    "df = pd.read_csv('bank_marketing_cleaned.csv')\n",
    "df.head()"
   ]
  },
  {
   "cell_type": "markdown",
   "id": "55545786",
   "metadata": {},
   "source": [
    "### Preprocessing: Encode & Impute Features"
   ]
  },
  {
   "cell_type": "code",
   "execution_count": 20,
   "id": "753d4c38",
   "metadata": {},
   "outputs": [
    {
     "data": {
      "text/plain": [
       "Index(['age', 'job', 'marital', 'education', 'default', 'housing', 'loan',\n",
       "       'contact', 'month', 'day_of_week', 'campaign', 'pdays', 'previous',\n",
       "       'poutcome', 'emp.var.rate', 'cons.price.idx', 'cons.conf.idx',\n",
       "       'euribor3m', 'nr.employed', 'y', 'contacted_before', 'pdays_clean',\n",
       "       'previous_capped', 'campaign_winsorized'],\n",
       "      dtype='object')"
      ]
     },
     "execution_count": 20,
     "metadata": {},
     "output_type": "execute_result"
    }
   ],
   "source": [
    "df.columns\n"
   ]
  },
  {
   "cell_type": "code",
   "execution_count": 21,
   "id": "11bb078e",
   "metadata": {},
   "outputs": [
    {
     "name": "stdout",
     "output_type": "stream",
     "text": [
      "age [56 57 37 40 45 59 41 24 25 29 35 54 46 50 39 30 55 49 34 52 58 32 38 44\n",
      " 42 60 53 47 51 48 33 31 43 36 28 27 26 22 23 20 21 61 19 18 70 66 76 67\n",
      " 73 88 95 77 68 75 63 80 62 65 72 82 64 71 69 78 85 79 83 81 74 17 87 91\n",
      " 86 98 94 84 92 89]\n",
      "job ['housemaid' 'services' 'admin.' 'blue-collar' 'technician' 'retired'\n",
      " 'management' 'unemployed' 'self-employed' nan 'entrepreneur' 'student']\n",
      "marital ['married' 'single' 'divorced' nan]\n",
      "education ['basic.4y' 'high.school' 'basic.6y' 'basic.9y' 'professional.course' nan\n",
      " 'university.degree' 'illiterate']\n",
      "default ['no' nan 'yes']\n",
      "housing ['no' 'yes' nan]\n",
      "loan ['no' 'yes' nan]\n",
      "contact ['telephone' 'cellular']\n",
      "month ['may' 'jun' 'jul' 'aug' 'oct' 'nov' 'dec' 'mar' 'apr' 'sep']\n",
      "day_of_week ['mon' 'tue' 'wed' 'thu' 'fri']\n",
      "campaign [ 1  2  3  4  5  6  7  8  9 10 11 12 13 19 18 23 14 22 25 16 17 15 20 56\n",
      " 39 35 42 28 26 27 32 21 24 29 31 30 41 37 40 33 34 43]\n",
      "pdays [999   6   4   3   5   1   0  10   7   8   9  11   2  12  13  14  15  16\n",
      "  21  17  18  22  25  26  19  27  20]\n",
      "previous [0 1 2 3 4 5 6 7]\n",
      "poutcome ['nonexistent' 'failure' 'success']\n",
      "emp.var.rate [ 1.1  1.4 -0.1 -0.2 -1.8 -2.9 -3.4 -3.  -1.7 -1.1]\n",
      "cons.price.idx [93.994 94.465 93.918 93.444 93.798 93.2   92.756 92.843 93.075 92.893\n",
      " 92.963 92.469 92.201 92.379 92.431 92.649 92.713 93.369 93.749 93.876\n",
      " 94.055 94.215 94.027 94.199 94.601 94.767]\n",
      "cons.conf.idx [-36.4 -41.8 -42.7 -36.1 -40.4 -42.  -45.9 -50.  -47.1 -46.2 -40.8 -33.6\n",
      " -31.4 -29.8 -26.9 -30.1 -33.  -34.8 -34.6 -40.  -39.8 -40.3 -38.3 -37.5\n",
      " -49.5 -50.8]\n",
      "euribor3m [4.857 4.856 4.855 4.859 4.86  4.858 4.864 4.865 4.866 4.967 4.961 4.959\n",
      " 4.958 4.96  4.962 4.955 4.947 4.956 4.966 4.963 4.957 4.968 4.97  4.965\n",
      " 4.964 5.045 5.    4.936 4.921 4.918 4.912 4.827 4.794 4.76  4.733 4.7\n",
      " 4.663 4.592 4.474 4.406 4.343 4.286 4.245 4.223 4.191 4.153 4.12  4.076\n",
      " 4.021 3.901 3.879 3.853 3.816 3.743 3.669 3.563 3.488 3.428 3.329 3.282\n",
      " 3.053 1.811 1.799 1.778 1.757 1.726 1.703 1.687 1.663 1.65  1.64  1.629\n",
      " 1.614 1.602 1.584 1.574 1.56  1.556 1.548 1.538 1.531 1.52  1.51  1.498\n",
      " 1.483 1.479 1.466 1.453 1.445 1.435 1.423 1.415 1.41  1.405 1.406 1.4\n",
      " 1.392 1.384 1.372 1.365 1.354 1.344 1.334 1.327 1.313 1.299 1.291 1.281\n",
      " 1.266 1.25  1.244 1.259 1.264 1.27  1.262 1.26  1.268 1.286 1.252 1.235\n",
      " 1.224 1.215 1.206 1.099 1.085 1.072 1.059 1.048 1.044 1.029 1.018 1.007\n",
      " 0.996 0.979 0.969 0.944 0.937 0.933 0.927 0.921 0.914 0.908 0.903 0.899\n",
      " 0.884 0.883 0.881 0.879 0.873 0.869 0.861 0.859 0.854 0.851 0.849 0.843\n",
      " 0.838 0.834 0.829 0.825 0.821 0.819 0.813 0.809 0.803 0.797 0.788 0.781\n",
      " 0.778 0.773 0.771 0.77  0.768 0.766 0.762 0.755 0.749 0.743 0.741 0.739\n",
      " 0.75  0.753 0.754 0.752 0.744 0.74  0.742 0.737 0.735 0.733 0.73  0.731\n",
      " 0.728 0.724 0.722 0.72  0.719 0.716 0.715 0.714 0.718 0.721 0.717 0.712\n",
      " 0.71  0.709 0.708 0.706 0.707 0.7   0.655 0.654 0.653 0.652 0.651 0.65\n",
      " 0.649 0.646 0.644 0.643 0.639 0.637 0.635 0.636 0.634 0.638 0.64  0.642\n",
      " 0.645 0.659 0.663 0.668 0.672 0.677 0.682 0.683 0.684 0.685 0.688 0.69\n",
      " 0.692 0.695 0.697 0.699 0.701 0.702 0.704 0.711 0.713 0.723 0.727 0.729\n",
      " 0.732 0.748 0.761 0.767 0.782 0.79  0.793 0.802 0.81  0.822 0.827 0.835\n",
      " 0.84  0.846 0.87  0.876 0.885 0.889 0.893 0.896 0.898 0.9   0.904 0.905\n",
      " 0.895 0.894 0.891 0.89  0.888 0.886 0.882 0.88  0.878 0.877 0.942 0.953\n",
      " 0.956 0.959 0.965 0.972 0.977 0.982 0.985 0.987 0.993 1.    1.008 1.016\n",
      " 1.025 1.032 1.037 1.043 1.045 1.047 1.05  1.049 1.046 1.041 1.04  1.039\n",
      " 1.035 1.03  1.031 1.028]\n",
      "nr.employed [5191.  5228.1 5195.8 5176.3 5099.1 5076.2 5017.5 5023.5 5008.7 4991.6\n",
      " 4963.6]\n",
      "y [0 1]\n",
      "contacted_before [0 1]\n",
      "pdays_clean [nan  6.  4.  3.  5.  1.  0. 10.  7.  8.  9. 11.  2. 12. 13. 14. 15. 16.\n",
      " 21. 17. 18. 22. 25. 26. 19. 27. 20.]\n",
      "previous_capped [0 1 2 3]\n",
      "campaign_winsorized [ 1  2  3  4  5  6  7  8  9 10 11 12 13 14]\n"
     ]
    }
   ],
   "source": [
    "columns =[ 'age', 'job', 'marital', 'education', 'default', 'housing', 'loan',\n",
    "       'contact', 'month', 'day_of_week', 'campaign', 'pdays', 'previous',\n",
    "       'poutcome', 'emp.var.rate', 'cons.price.idx', 'cons.conf.idx',\n",
    "       'euribor3m', 'nr.employed', 'y', 'contacted_before', 'pdays_clean',\n",
    "       'previous_capped', 'campaign_winsorized']\n",
    "for col in columns:\n",
    "    print(col, df[col].unique())"
   ]
  },
  {
   "cell_type": "code",
   "execution_count": 22,
   "id": "4ca357d6",
   "metadata": {},
   "outputs": [],
   "source": [
    "X = df.drop(columns=['y'])\n",
    "y = df['y']\n",
    "\n",
    "categorical_cols = X.select_dtypes(include='object').columns.tolist()\n",
    "numeric_cols = X.select_dtypes(include=['int64', 'float64']).columns.tolist()\n",
    "\n",
    "categorical_pipeline = Pipeline([\n",
    "    ('imputer', SimpleImputer(strategy='constant', fill_value='missing')),\n",
    "    ('encoder', OneHotEncoder(handle_unknown='ignore'))\n",
    "])\n",
    "\n",
    "numeric_pipeline = Pipeline([\n",
    "    ('imputer', SimpleImputer(strategy='mean'))\n",
    "])\n",
    "\n",
    "preprocessor = ColumnTransformer([\n",
    "    ('cat', categorical_pipeline, categorical_cols),\n",
    "    ('num', numeric_pipeline, numeric_cols)\n",
    "])\n",
    "\n",
    "X_train, X_test, y_train, y_test = train_test_split(X, y, stratify=y, test_size=0.3, random_state=42)"
   ]
  },
  {
   "cell_type": "markdown",
   "id": "5731153a",
   "metadata": {},
   "source": [
    "### Baseline: Dummy Classifier"
   ]
  },
  {
   "cell_type": "code",
   "execution_count": 23,
   "id": "4916a38d",
   "metadata": {
    "scrolled": true
   },
   "outputs": [
    {
     "name": "stdout",
     "output_type": "stream",
     "text": [
      "Dummy Classifier Performance:\n",
      "[[10961     0]\n",
      " [ 1392     0]]\n",
      "              precision    recall  f1-score   support\n",
      "\n",
      "           0       0.89      1.00      0.94     10961\n",
      "           1       0.00      0.00      0.00      1392\n",
      "\n",
      "    accuracy                           0.89     12353\n",
      "   macro avg       0.44      0.50      0.47     12353\n",
      "weighted avg       0.79      0.89      0.83     12353\n",
      "\n"
     ]
    },
    {
     "name": "stderr",
     "output_type": "stream",
     "text": [
      "C:\\Users\\abdin\\Anaconda3\\Lib\\site-packages\\sklearn\\metrics\\_classification.py:1344: UndefinedMetricWarning: Precision and F-score are ill-defined and being set to 0.0 in labels with no predicted samples. Use `zero_division` parameter to control this behavior.\n",
      "  _warn_prf(average, modifier, msg_start, len(result))\n",
      "C:\\Users\\abdin\\Anaconda3\\Lib\\site-packages\\sklearn\\metrics\\_classification.py:1344: UndefinedMetricWarning: Precision and F-score are ill-defined and being set to 0.0 in labels with no predicted samples. Use `zero_division` parameter to control this behavior.\n",
      "  _warn_prf(average, modifier, msg_start, len(result))\n",
      "C:\\Users\\abdin\\Anaconda3\\Lib\\site-packages\\sklearn\\metrics\\_classification.py:1344: UndefinedMetricWarning: Precision and F-score are ill-defined and being set to 0.0 in labels with no predicted samples. Use `zero_division` parameter to control this behavior.\n",
      "  _warn_prf(average, modifier, msg_start, len(result))\n"
     ]
    }
   ],
   "source": [
    "dummy_pipeline = Pipeline([\n",
    "    ('preprocessor', preprocessor),\n",
    "    ('classifier', DummyClassifier(strategy='most_frequent'))\n",
    "])\n",
    "\n",
    "dummy_pipeline.fit(X_train, y_train)\n",
    "y_pred_dummy = dummy_pipeline.predict(X_test)\n",
    "\n",
    "print(\"Dummy Classifier Performance:\")\n",
    "print(confusion_matrix(y_test, y_pred_dummy))\n",
    "print(classification_report(y_test, y_pred_dummy))"
   ]
  },
  {
   "cell_type": "markdown",
   "id": "d9871f02",
   "metadata": {},
   "source": [
    "### Base Model: Logistic Regression"
   ]
  },
  {
   "cell_type": "code",
   "execution_count": 24,
   "id": "27ce1d85",
   "metadata": {},
   "outputs": [
    {
     "name": "stdout",
     "output_type": "stream",
     "text": [
      "Logistic Regression Performance:\n",
      "[[10823   138]\n",
      " [ 1101   291]]\n",
      "              precision    recall  f1-score   support\n",
      "\n",
      "           0       0.91      0.99      0.95     10961\n",
      "           1       0.68      0.21      0.32      1392\n",
      "\n",
      "    accuracy                           0.90     12353\n",
      "   macro avg       0.79      0.60      0.63     12353\n",
      "weighted avg       0.88      0.90      0.88     12353\n",
      "\n"
     ]
    }
   ],
   "source": [
    "logreg_pipeline = Pipeline([\n",
    "    ('preprocessor', preprocessor),\n",
    "    ('classifier', LogisticRegression(max_iter=1000))\n",
    "])\n",
    "\n",
    "logreg_pipeline.fit(X_train, y_train)\n",
    "y_pred_logreg = logreg_pipeline.predict(X_test)\n",
    "\n",
    "print(\"Logistic Regression Performance:\")\n",
    "print(confusion_matrix(y_test, y_pred_logreg))\n",
    "print(classification_report(y_test, y_pred_logreg))"
   ]
  },
  {
   "cell_type": "markdown",
   "id": "aacd5e0f",
   "metadata": {},
   "source": [
    "### Conclusion\n",
    "\n",
    "- The **Dummy Classifier** always predicts the majority class, giving a baseline for comparison.\n",
    "- The **Logistic Regression** model shows significantly better performance and is interpretable, making it suitable for business environments.\n",
    "- This notebook establishes a strong foundation for comparing ensemble and boosting models next.\n"
   ]
  },
  {
   "cell_type": "markdown",
   "id": "7fd1e64e",
   "metadata": {},
   "source": [
    "### Main models"
   ]
  },
  {
   "cell_type": "code",
   "execution_count": 28,
   "id": "c1e770e0",
   "metadata": {},
   "outputs": [
    {
     "name": "stdout",
     "output_type": "stream",
     "text": [
      "Model Performance (10-Fold Cross-Validation):\n",
      "\n",
      "Dummy Classifier               Accuracy: 88.73%\n",
      "Logistic Regression (Baseline) Accuracy: 90.02%\n",
      "Decision Tree                  Accuracy: 84.13%\n",
      "Naive Bayes                    Accuracy: 80.28%\n",
      "Random Forest                  Accuracy: 89.21%\n",
      "Gradient Boosting              Accuracy: 90.03%\n"
     ]
    }
   ],
   "source": [
    "#lets do a comparison of dummy,baseline and main models accuracies\n",
    "# Split features and target\n",
    "X = df.drop(columns=['y'])\n",
    "y = df['y']\n",
    "\n",
    "# Identify column types\n",
    "categorical_cols = X.select_dtypes(include='object').columns.tolist()\n",
    "numeric_cols = X.select_dtypes(include=['int64', 'float64']).columns.tolist()\n",
    "\n",
    "# Pipelines for preprocessing\n",
    "categorical_pipeline = Pipeline([\n",
    "    ('imputer', SimpleImputer(strategy='constant', fill_value='missing')),\n",
    "    ('encoder', OneHotEncoder(handle_unknown='ignore'))\n",
    "])\n",
    "\n",
    "numeric_pipeline = Pipeline([\n",
    "    ('imputer', SimpleImputer(strategy='mean')),\n",
    "    ('scaler', StandardScaler())\n",
    "])\n",
    "\n",
    "# Combine preprocessing\n",
    "preprocessor = ColumnTransformer([\n",
    "    ('cat', categorical_pipeline, categorical_cols),\n",
    "    ('num', numeric_pipeline, numeric_cols)\n",
    "])\n",
    "\n",
    "# Define models\n",
    "models = {\n",
    "    'Dummy Classifier': DummyClassifier(strategy='most_frequent'),\n",
    "    'Logistic Regression (Baseline)': LogisticRegression(max_iter=1000),\n",
    "    'Decision Tree': DecisionTreeClassifier(),\n",
    "    'Naive Bayes': BernoulliNB(),\n",
    "    'Random Forest': RandomForestClassifier(),\n",
    "    'Gradient Boosting': GradientBoostingClassifier()\n",
    "}\n",
    "\n",
    "# Cross-validation strategy\n",
    "cv = StratifiedKFold(n_splits=10, shuffle=True, random_state=42)\n",
    "\n",
    "# Evaluate each model\n",
    "print(\"Model Performance (10-Fold Cross-Validation):\\n\")\n",
    "for name, model in models.items():\n",
    "    pipeline = Pipeline([\n",
    "        ('preprocessor', preprocessor),\n",
    "        ('classifier', model)\n",
    "    ])\n",
    "    score = cross_val_score(pipeline, X, y, cv=cv, scoring='accuracy')\n",
    "    print(f\"{name:<30} Accuracy: {score.mean() * 100:.2f}%\")"
   ]
  },
  {
   "cell_type": "markdown",
   "id": "76474a65",
   "metadata": {},
   "source": [
    "Gradient Boosting achieved the highest accuracy (90.03%), closely followed by Logistic Regression, showing strong performance.\n",
    "\n",
    "The Dummy Classifier serves as a baseline; all other models outperform it, indicating the models are learning meaningful patterns.\n",
    "\n",
    "While Random Forest performs well, it's slightly below the baseline Logistic Regression in this case.\n",
    "\n",
    "Naive Bayes and Decision Tree showed lower accuracy, suggesting they may not generalize well for this dataset."
   ]
  },
  {
   "cell_type": "code",
   "execution_count": 27,
   "id": "c451364e",
   "metadata": {},
   "outputs": [
    {
     "name": "stdout",
     "output_type": "stream",
     "text": [
      "Random Forest Performance:\n",
      "[[10648   313]\n",
      " [ 1014   378]]\n",
      "              precision    recall  f1-score   support\n",
      "\n",
      "           0       0.91      0.97      0.94     10961\n",
      "           1       0.55      0.27      0.36      1392\n",
      "\n",
      "    accuracy                           0.89     12353\n",
      "   macro avg       0.73      0.62      0.65     12353\n",
      "weighted avg       0.87      0.89      0.88     12353\n",
      "\n"
     ]
    }
   ],
   "source": [
    "rf_pipeline = Pipeline([\n",
    "    ('preprocessor', preprocessor),\n",
    "    ('classifier', RandomForestClassifier(random_state=42))\n",
    "])\n",
    "\n",
    "rf_pipeline.fit(X_train, y_train)\n",
    "y_pred_rf = rf_pipeline.predict(X_test)\n",
    "\n",
    "print(\"Random Forest Performance:\")\n",
    "print(confusion_matrix(y_test, y_pred_rf))\n",
    "print(classification_report(y_test, y_pred_rf))"
   ]
  },
  {
   "cell_type": "code",
   "execution_count": 29,
   "id": "81896676",
   "metadata": {},
   "outputs": [
    {
     "name": "stdout",
     "output_type": "stream",
     "text": [
      "Gradient Boosting Performance:\n",
      "[[10797   164]\n",
      " [ 1064   328]]\n",
      "              precision    recall  f1-score   support\n",
      "\n",
      "           0       0.91      0.99      0.95     10961\n",
      "           1       0.67      0.24      0.35      1392\n",
      "\n",
      "    accuracy                           0.90     12353\n",
      "   macro avg       0.79      0.61      0.65     12353\n",
      "weighted avg       0.88      0.90      0.88     12353\n",
      "\n"
     ]
    }
   ],
   "source": [
    "# Define the pipeline\n",
    "gb_pipeline = Pipeline([\n",
    "    ('preprocessor', preprocessor),\n",
    "    ('classifier', GradientBoostingClassifier(random_state=42))\n",
    "])\n",
    "\n",
    "# Fit the model\n",
    "gb_pipeline.fit(X_train, y_train)\n",
    "\n",
    "# Predict on test set\n",
    "y_pred_gb = gb_pipeline.predict(X_test)\n",
    "\n",
    "# Evaluation\n",
    "print(\"Gradient Boosting Performance:\")\n",
    "print(confusion_matrix(y_test, y_pred_gb))\n",
    "print(classification_report(y_test, y_pred_gb))"
   ]
  },
  {
   "cell_type": "markdown",
   "id": "bc6e6bb6",
   "metadata": {},
   "source": [
    "Random Forest\n",
    "\n",
    "Accuracy: 89%\n",
    "\n",
    "F1-score (class 1): 0.36\n",
    "\n",
    "Performs well overall, but struggles to recall class 1 (only 27%).\n",
    "\n",
    "Gradient Boosting\n",
    "\n",
    "Accuracy: 90%\n",
    "\n",
    "F1-score (class 1): 0.35\n",
    "\n",
    "Slightly better accuracy and precision on class 1, but still low recall (24%).\n",
    "\n",
    "Both models are strong on the majority class but have limited recall for minority class (1) — important if predicting this class is critical."
   ]
  },
  {
   "cell_type": "markdown",
   "id": "f84b6370",
   "metadata": {},
   "source": [
    "### HYPER PARAMETER TUNING"
   ]
  },
  {
   "cell_type": "markdown",
   "id": "886bf4f4",
   "metadata": {},
   "source": [
    "Perfoming RandomizedSearchCV to tune both random classifier model and gradient boosting model\n"
   ]
  },
  {
   "cell_type": "code",
   "execution_count": 32,
   "id": "07449542",
   "metadata": {},
   "outputs": [
    {
     "name": "stdout",
     "output_type": "stream",
     "text": [
      "Best Random Forest Performance:\n",
      "[[10814   147]\n",
      " [ 1083   309]]\n",
      "              precision    recall  f1-score   support\n",
      "\n",
      "           0       0.91      0.99      0.95     10961\n",
      "           1       0.68      0.22      0.33      1392\n",
      "\n",
      "    accuracy                           0.90     12353\n",
      "   macro avg       0.79      0.60      0.64     12353\n",
      "weighted avg       0.88      0.90      0.88     12353\n",
      "\n",
      "Best RF Params: {'classifier__n_estimators': 200, 'classifier__min_samples_split': 5, 'classifier__min_samples_leaf': 1, 'classifier__max_depth': 10}\n"
     ]
    }
   ],
   "source": [
    "\n",
    "# Random Forest parameter grid\n",
    "rf_param_grid = {\n",
    "    'classifier__n_estimators': [100, 200, 300],\n",
    "    'classifier__max_depth': [None, 10, 20],\n",
    "    'classifier__min_samples_split': [2, 5, 10],\n",
    "    'classifier__min_samples_leaf': [1, 2, 4]\n",
    "}\n",
    "\n",
    "# Pipeline\n",
    "rf_pipeline = Pipeline([\n",
    "    ('preprocessor', preprocessor),\n",
    "    ('classifier', RandomForestClassifier(random_state=42))\n",
    "])\n",
    "\n",
    "# Randomized search\n",
    "rf_search = RandomizedSearchCV(\n",
    "    rf_pipeline, rf_param_grid, n_iter=10, cv=5,\n",
    "    scoring='accuracy', random_state=42, n_jobs=-1\n",
    ")\n",
    "\n",
    "# Fit the model\n",
    "rf_search.fit(X_train, y_train)\n",
    "\n",
    "# Evaluate\n",
    "print(\"Best Random Forest Performance:\")\n",
    "y_pred_rf = rf_search.predict(X_test)\n",
    "print(confusion_matrix(y_test, y_pred_rf))\n",
    "print(classification_report(y_test, y_pred_rf))\n",
    "print(\"Best RF Params:\", rf_search.best_params_)\n"
   ]
  },
  {
   "cell_type": "code",
   "execution_count": 33,
   "id": "2dc3a8bc",
   "metadata": {},
   "outputs": [
    {
     "name": "stdout",
     "output_type": "stream",
     "text": [
      "Best Gradient Boosting Performance:\n",
      "[[10801   160]\n",
      " [ 1068   324]]\n",
      "              precision    recall  f1-score   support\n",
      "\n",
      "           0       0.91      0.99      0.95     10961\n",
      "           1       0.67      0.23      0.35      1392\n",
      "\n",
      "    accuracy                           0.90     12353\n",
      "   macro avg       0.79      0.61      0.65     12353\n",
      "weighted avg       0.88      0.90      0.88     12353\n",
      "\n",
      "Best GB Params: {'classifier__subsample': 0.8, 'classifier__n_estimators': 100, 'classifier__max_depth': 3, 'classifier__learning_rate': 0.1}\n"
     ]
    }
   ],
   "source": [
    "from sklearn.ensemble import GradientBoostingClassifier\n",
    "\n",
    "# Gradient Boosting parameter grid\n",
    "gb_param_grid = {\n",
    "    'classifier__n_estimators': [100, 200],\n",
    "    'classifier__learning_rate': [0.01, 0.1, 0.2],\n",
    "    'classifier__max_depth': [3, 5, 7],\n",
    "    'classifier__subsample': [0.8, 1.0]\n",
    "}\n",
    "\n",
    "# Pipeline\n",
    "gb_pipeline = Pipeline([\n",
    "    ('preprocessor', preprocessor),\n",
    "    ('classifier', GradientBoostingClassifier(random_state=42))\n",
    "])\n",
    "\n",
    "# Randomized search\n",
    "gb_search = RandomizedSearchCV(\n",
    "    gb_pipeline, gb_param_grid, n_iter=10, cv=5,\n",
    "    scoring='accuracy', random_state=42, n_jobs=-1\n",
    ")\n",
    "\n",
    "# Fit the model\n",
    "gb_search.fit(X_train, y_train)\n",
    "\n",
    "# Evaluate\n",
    "print(\"Best Gradient Boosting Performance:\")\n",
    "y_pred_gb = gb_search.predict(X_test)\n",
    "print(confusion_matrix(y_test, y_pred_gb))\n",
    "print(classification_report(y_test, y_pred_gb))\n",
    "print(\"Best GB Params:\", gb_search.best_params_)\n"
   ]
  },
  {
   "cell_type": "code",
   "execution_count": 34,
   "id": "d528e40c",
   "metadata": {},
   "outputs": [
    {
     "name": "stdout",
     "output_type": "stream",
     "text": [
      "Final Tuned Random Forest Performance:\n",
      "[[10814   147]\n",
      " [ 1083   309]]\n",
      "              precision    recall  f1-score   support\n",
      "\n",
      "           0       0.91      0.99      0.95     10961\n",
      "           1       0.68      0.22      0.33      1392\n",
      "\n",
      "    accuracy                           0.90     12353\n",
      "   macro avg       0.79      0.60      0.64     12353\n",
      "weighted avg       0.88      0.90      0.88     12353\n",
      "\n"
     ]
    }
   ],
   "source": [
    "final_rf = Pipeline([\n",
    "    ('preprocessor', preprocessor),\n",
    "    ('classifier', RandomForestClassifier(\n",
    "        n_estimators=200,\n",
    "        max_depth=10,\n",
    "        min_samples_split=5,\n",
    "        min_samples_leaf=1,\n",
    "        random_state=42\n",
    "    ))\n",
    "])\n",
    "\n",
    "final_rf.fit(X_train, y_train)\n",
    "y_final_pred_rf = final_rf.predict(X_test)\n",
    "\n",
    "print(\"Final Tuned Random Forest Performance:\")\n",
    "print(confusion_matrix(y_test, y_final_pred_rf))\n",
    "print(classification_report(y_test, y_final_pred_rf))\n"
   ]
  },
  {
   "cell_type": "code",
   "execution_count": 35,
   "id": "980275e7",
   "metadata": {},
   "outputs": [
    {
     "name": "stdout",
     "output_type": "stream",
     "text": [
      "Final Tuned Gradient Boosting Performance:\n",
      "[[10801   160]\n",
      " [ 1068   324]]\n",
      "              precision    recall  f1-score   support\n",
      "\n",
      "           0       0.91      0.99      0.95     10961\n",
      "           1       0.67      0.23      0.35      1392\n",
      "\n",
      "    accuracy                           0.90     12353\n",
      "   macro avg       0.79      0.61      0.65     12353\n",
      "weighted avg       0.88      0.90      0.88     12353\n",
      "\n"
     ]
    }
   ],
   "source": [
    "from sklearn.ensemble import GradientBoostingClassifier\n",
    "\n",
    "# Final Gradient Boosting Pipeline\n",
    "final_gb = Pipeline([\n",
    "    ('preprocessor', preprocessor),\n",
    "    ('classifier', GradientBoostingClassifier(\n",
    "        n_estimators=100,\n",
    "        max_depth=3,\n",
    "        learning_rate=0.1,\n",
    "        subsample=0.8,\n",
    "        random_state=42\n",
    "    ))\n",
    "])\n",
    "\n",
    "# Fit and predict\n",
    "final_gb.fit(X_train, y_train)\n",
    "y_final_pred_gb = final_gb.predict(X_test)\n",
    "\n",
    "# Evaluation\n",
    "print(\"Final Tuned Gradient Boosting Performance:\")\n",
    "print(confusion_matrix(y_test, y_final_pred_gb))\n",
    "print(classification_report(y_test, y_final_pred_gb))\n"
   ]
  },
  {
   "cell_type": "markdown",
   "id": "e3b1cfe8",
   "metadata": {},
   "source": [
    "Tuned Random Forest\n",
    "\n",
    "Accuracy: 90%\n",
    "\n",
    "F1-score (class 1): 0.33\n",
    "\n",
    "Improved overall accuracy, but still low recall (22%) on minority class.\n",
    "\n",
    "Tuned Gradient Boosting\n",
    "\n",
    "Accuracy: 90%\n",
    "\n",
    "F1-score (class 1): 0.35\n",
    "\n",
    "Slight improvement on minority class recall (23%), but still limited.\n",
    "\n",
    "Despite tuning, both models favor the majority class, with class 1 recall remaining a challenge. Consider resampling techniques if class 1 prediction is critical."
   ]
  },
  {
   "cell_type": "code",
   "execution_count": 36,
   "id": "290497db",
   "metadata": {},
   "outputs": [
    {
     "data": {
      "image/png": "[encoded data removed]",
      "text/plain": [
       "<Figure size 1000x600 with 1 Axes>"
      ]
     },
     "metadata": {},
     "output_type": "display_data"
    }
   ],
   "source": [
    "from sklearn.metrics import roc_curve, auc\n",
    "import matplotlib.pyplot as plt\n",
    "\n",
    "# Predict probabilities\n",
    "y_proba_rf = rf_search.best_estimator_.predict_proba(X_test)[:, 1]\n",
    "y_proba_gb = gb_search.best_estimator_.predict_proba(X_test)[:, 1]\n",
    "\n",
    "# Compute ROC curves and AUC\n",
    "fpr_rf, tpr_rf, _ = roc_curve(y_test, y_proba_rf)\n",
    "roc_auc_rf = auc(fpr_rf, tpr_rf)\n",
    "\n",
    "fpr_gb, tpr_gb, _ = roc_curve(y_test, y_proba_gb)\n",
    "roc_auc_gb = auc(fpr_gb, tpr_gb)\n",
    "\n",
    "# Plot\n",
    "plt.figure(figsize=(10, 6))\n",
    "plt.plot(fpr_rf, tpr_rf, color='blue', lw=2, label='Random Forest (AUC = %0.2f)' % roc_auc_rf)\n",
    "plt.plot(fpr_gb, tpr_gb, color='green', lw=2, label='Gradient Boosting (AUC = %0.2f)' % roc_auc_gb)\n",
    "\n",
    "plt.plot([0, 1], [0, 1], color='gray', linestyle='--')\n",
    "plt.xlim([0.0, 1.0])\n",
    "plt.ylim([0.0, 1.05])\n",
    "plt.xlabel('False Positive Rate')\n",
    "plt.ylabel('True Positive Rate')\n",
    "plt.title('ROC Curve: Random Forest vs Gradient Boosting')\n",
    "plt.legend(loc=\"lower right\")\n",
    "plt.grid(True)\n",
    "plt.show()\n"
   ]
  },
  {
   "cell_type": "markdown",
   "id": "b0076cd1",
   "metadata": {},
   "source": [
    "Both models show solid predictive power, with identical AUC (Area Under the Curve) scores of 0.81, meaning they’re equally effective at distinguishing between classes.\n"
   ]
  },
  {
   "cell_type": "markdown",
   "id": "b7385e64",
   "metadata": {},
   "source": [
    "### Feature Importance"
   ]
  },
  {
   "cell_type": "code",
   "execution_count": 37,
   "id": "e8336105",
   "metadata": {},
   "outputs": [],
   "source": [
    "rf_model = rf_search.best_estimator_.named_steps['classifier']\n",
    "gb_model = gb_search.best_estimator_.named_steps['classifier']\n"
   ]
  },
  {
   "cell_type": "code",
   "execution_count": 40,
   "id": "aaead9e6",
   "metadata": {},
   "outputs": [
    {
     "data": {
      "image/png": "[encoded data removed]",
      "text/plain": [
       "<Figure size 1400x600 with 2 Axes>"
      ]
     },
     "metadata": {},
     "output_type": "display_data"
    }
   ],
   "source": [
    "# 1. Get feature names after preprocessing\n",
    "onehot_columns = rf_search.best_estimator_.named_steps['preprocessor']\\\n",
    "    .named_transformers_['cat'].named_steps['encoder']\\\n",
    "    .get_feature_names_out(categorical_cols)\n",
    "\n",
    "feature_names = np.concatenate([onehot_columns, numeric_cols])\n",
    "\n",
    "# 2. Extract importances\n",
    "rf_importances = rf_model.feature_importances_\n",
    "gb_importances = gb_model.feature_importances_\n",
    "\n",
    "# 3. Create DataFrames\n",
    "rf_feat_imp_df = pd.DataFrame({\n",
    "    'Feature': feature_names,\n",
    "    'Importance': rf_importances\n",
    "}).sort_values(by='Importance', ascending=False)\n",
    "\n",
    "gb_feat_imp_df = pd.DataFrame({\n",
    "    'Feature': feature_names,\n",
    "    'Importance': gb_importances\n",
    "}).sort_values(by='Importance', ascending=False)\n",
    "\n",
    "# 4. Plot top 15\n",
    "plt.figure(figsize=(14, 6))\n",
    "\n",
    "plt.subplot(1, 2, 1)\n",
    "plt.barh(rf_feat_imp_df['Feature'][:15][::-1], rf_feat_imp_df['Importance'][:15][::-1], color='skyblue')\n",
    "plt.title(\"Top 15 Important Features - Random Forest\")\n",
    "plt.xlabel(\"Importance\")\n",
    "\n",
    "plt.subplot(1, 2, 2)\n",
    "plt.barh(gb_feat_imp_df['Feature'][:15][::-1], gb_feat_imp_df['Importance'][:15][::-1], color='lightgreen')\n",
    "plt.title(\"Top 15 Important Features - Gradient Boosting\")\n",
    "plt.xlabel(\"Importance\")\n",
    "\n",
    "plt.tight_layout()\n",
    "plt.show()"
   ]
  },
  {
   "cell_type": "markdown",
   "id": "c33105ef",
   "metadata": {},
   "source": [
    "Common Top Features Across Both Models:\n",
    "- nr.employed, euribor3m, and pdays are consistently high-ranking, signaling strong predictive power tied to employment and interest rate indicators.\n",
    "- poutcome_success suggests past campaign success has strong influence.\n",
    "- cons.conf.idx and cons.price.idx reflect consumer sentiment and economic outlook.\n",
    "Notable Differences:\n",
    "- Gradient Boosting prioritizes features like month_oct, poutcome_failure, and contact_telephone, which don’t rank as high in Random Forest. This hints at nuanced interactions with campaign timing and contact methods.\n",
    "- Random Forest gives more weight to engineered variables like contacted_before, pdays_clean, and campaign, possibly showing broader patterns picked up through bootstrapping.\n",
    "\n",
    "🎯 Actionable Recommendation\n",
    "For ABC Bank presentation:\n",
    "- Emphasize shared top features for consistency across models—they validate their predictive strength.\n",
    "- Highlight unique features in each model to justify why multiple approaches can reveal complementary insights.\n",
    "- Consider feature engineering opportunities around campaign timing and contact strategy to further boost prediction accuracy.\n",
    "\n"
   ]
  },
  {
   "cell_type": "code",
   "execution_count": null,
   "id": "80703855",
   "metadata": {},
   "outputs": [],
   "source": []
  }
 ],
 "metadata": {
  "kernelspec": {
   "display_name": "Python 3 (ipykernel)",
   "language": "python",
   "name": "python3"
  },
  "language_info": {
   "codemirror_mode": {
    "name": "ipython",
    "version": 3
   },
   "file_extension": ".py",
   "mimetype": "text/x-python",
   "name": "python",
   "nbconvert_exporter": "python",
   "pygments_lexer": "ipython3",
   "version": "3.11.5"
  }
 },
 "nbformat": 4,
 "nbformat_minor": 5
}
